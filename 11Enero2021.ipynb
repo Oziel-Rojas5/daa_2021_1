{
  "nbformat": 4,
  "nbformat_minor": 0,
  "metadata": {
    "colab": {
      "name": "11Enero2021.ipynb",
      "provenance": [],
      "authorship_tag": "ABX9TyOmB65Dp6vS2ejZlcgIKSfG",
      "include_colab_link": true
    },
    "kernelspec": {
      "name": "python3",
      "display_name": "Python 3"
    }
  },
  "cells": [
    {
      "cell_type": "markdown",
      "metadata": {
        "id": "view-in-github",
        "colab_type": "text"
      },
      "source": [
        "<a href=\"https://colab.research.google.com/github/Oziel-Rojas5/daa_2021_1/blob/master/11Enero2021.ipynb\" target=\"_parent\"><img src=\"https://colab.research.google.com/assets/colab-badge.svg\" alt=\"Open In Colab\"/></a>"
      ]
    },
    {
      "cell_type": "code",
      "metadata": {
        "id": "p2LpHqO7AHYJ"
      },
      "source": [
        "class NodoArbol:\r\n",
        "  def _init_(self, value, left=None,rigth=None):\r\n",
        "    self.data=value\r\n",
        "    self.left=left\r\n",
        "    self.rigth=rigth"
      ],
      "execution_count": 10,
      "outputs": []
    },
    {
      "cell_type": "code",
      "metadata": {
        "id": "_YhjfaduAIuQ"
      },
      "source": [
        "arbol = NodoArbol(\"R\",NodoArbol(\"C\"),NodoArbol(\"H\"))"
      ],
      "execution_count": null,
      "outputs": []
    },
    {
      "cell_type": "code",
      "metadata": {
        "id": "dLTS12UqAOTs"
      },
      "source": [
        "nodo1=NodoArbol(\"C\")\r\n",
        "nodo2=NodoArbol(\"H\")\r\n",
        "arbol_v2=NodoArbol(\"R\",nodo1,nodo2)"
      ],
      "execution_count": null,
      "outputs": []
    },
    {
      "cell_type": "code",
      "metadata": {
        "id": "Lk0n9d5gAPFo"
      },
      "source": [
        "print(arbol.rigth.data)\r\n",
        "print(arbol_V2.rigth.data)"
      ],
      "execution_count": null,
      "outputs": []
    },
    {
      "cell_type": "code",
      "metadata": {
        "id": "KLaTOPVv-pS8"
      },
      "source": [
        "arbol2 = NodoArbol(4,NodoArbol(3,NodoArbol(2,NodoArbol(2))),NodoArbol(5,None,None))\r\n",
        "print(arbol2.left.left.left.data)"
      ],
      "execution_count": null,
      "outputs": []
    },
    {
      "cell_type": "code",
      "metadata": {
        "id": "ivVYOmm_FHpF"
      },
      "source": [
        "aux = arbol2\r\n",
        "while aux.left = None:\r\n",
        "    aux = aux.left\r\n",
        "\r\n",
        "print(aux.data)"
      ],
      "execution_count": null,
      "outputs": []
    },
    {
      "cell_type": "code",
      "metadata": {
        "id": "67dUKduAFrVz"
      },
      "source": [
        "arbol = NodoArbol(\"Santi\", None, NodoArbol(\"Jesus\",NodoArbol(\"Pedro\",None,NodoArbol(\"Diana\")),None))\r\n",
        "print(arbol2.rigth.left.rigth.data)"
      ],
      "execution_count": null,
      "outputs": []
    }
  ]
}