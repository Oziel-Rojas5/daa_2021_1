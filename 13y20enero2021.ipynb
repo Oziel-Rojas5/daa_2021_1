{
  "nbformat": 4,
  "nbformat_minor": 0,
  "metadata": {
    "colab": {
      "name": "13y20enero2021.ipynb",
      "provenance": [],
      "authorship_tag": "ABX9TyMnTCIkMxLC+Yu00EBIPc7P",
      "include_colab_link": true
    },
    "kernelspec": {
      "name": "python3",
      "display_name": "Python 3"
    }
  },
  "cells": [
    {
      "cell_type": "markdown",
      "metadata": {
        "id": "view-in-github",
        "colab_type": "text"
      },
      "source": [
        "<a href=\"https://colab.research.google.com/github/Oziel-Rojas5/daa_2021_1/blob/master/13y20enero2021.ipynb\" target=\"_parent\"><img src=\"https://colab.research.google.com/assets/colab-badge.svg\" alt=\"Open In Colab\"/></a>"
      ]
    },
    {
      "cell_type": "code",
      "metadata": {
        "id": "cB-AAqDMkxn9"
      },
      "source": [
        "class NodoArbol:\r\n",
        "  def __init__(self, value, left=None, right=None):\r\n",
        "    self.data=value\r\n",
        "    self.left=left\r\n",
        "    self.right=right"
      ],
      "execution_count": 18,
      "outputs": []
    },
    {
      "cell_type": "code",
      "metadata": {
        "id": "uc18ERdbkyms"
      },
      "source": [
        "class BinarySearchTree:\r\n",
        "  def __init__(self):\r\n",
        "    self.__root = None\r\n",
        "\r\n",
        "  def insert(self, value):\r\n",
        "    if self.__root==None:\r\n",
        "      self.root=NodoArbol(value)\r\n",
        "    else:\r\n",
        "      self_insert_nodo_(self.__root, value)\r\n",
        "  \r\n",
        "\r\n",
        "  def __insert_nodo(self, nodo, value):\r\n",
        "    if nodo.data==value:\r\n",
        "      pass\r\n",
        "    elif value<nodo.data:\r\n",
        "      if nodo.left==None:\r\n",
        "        nodo.left=NodoArbol(value)\r\n",
        "      else:\r\n",
        "        self.__insert_nodo(nodo.left,value)\r\n",
        "    else:\r\n",
        "      if nodo.right==None:\r\n",
        "        nodo.left=NodoArbol(value)\r\n",
        "      else:\r\n",
        "        self.__insert_nodo(nodo.right,value)\r\n",
        "  def buscar( self, value):\r\n",
        "    if self.__root == None:\r\n",
        "      return False\r\n",
        "    else:\r\n",
        "      # haremos busqueda recursiva\r\n",
        "      return self.__busca_nodo( self.__root , value)\r\n",
        "\r\n",
        "  def __busca_nodo ( self , nodo, value):\r\n",
        "    if nodo == None:\r\n",
        "      return None\r\n",
        "    elif nodo.dato ==value:\r\n",
        "      return nodo.dato\r\n",
        "    elif value < nodo.dato:\r\n",
        "      return self.__busca_nodo( nodo.left ,value)\r\n",
        "    else:\r\n",
        "      return self.__busca_nodo(nodo.right ,value)\r\n",
        "\r\n",
        "  def transversal (self, format =\"inorden\"):\r\n",
        "    if format == \"inorden\":\r\n",
        "      self.__recorrido_in(self.__root)\r\n",
        "    elif format == \"preorden\":\r\n",
        "      self.__recorrido_pre(self.__root)\r\n",
        "    elif format == \"posorden\":\r\n",
        "      self.__recorrido_pos(self.__root)\r\n",
        "    else: \r\n",
        "        print(\"Formato de recorrido no Válido\")\r\n",
        "\r\n",
        "  def __recorrido_pre(self, nodo):\r\n",
        "    if nodo!= None:\r\n",
        "      print(nodo.dato, end=\" , \")\r\n",
        "      self.__recororrido_pre(nodo.left)\r\n",
        "      self.__recororrido_pre(nodo.right)\r\n",
        "\r\n",
        "  def __recorrido_in(self, nodo):\r\n",
        "    if nodo!= None:\r\n",
        "      print(nodo.dato)\r\n",
        "      self.__recororrido_in(nodo.left)\r\n",
        "      self.__recororrido_in(nodo.right)\r\n",
        "      \r\n",
        "\r\n",
        "  def __recorrido_pos(self, nodo):\r\n",
        "    if nodo!= None:\r\n",
        "      print(nodo.dato)\r\n",
        "      self.__recororrido_pos(nodo.left)\r\n",
        "      self.__recororrido_pos(nodo.right)\r\n",
        "      print(nodo.dato,end=\",\")\r\n",
        "    \r\n",
        "  \r\n"
      ],
      "execution_count": 28,
      "outputs": []
    },
    {
      "cell_type": "code",
      "metadata": {
        "colab": {
          "base_uri": "https://localhost:8080/"
        },
        "id": "dWkvhMsGk4hZ",
        "outputId": "ca32b5ff-9cb3-465a-cb12-d25af3a1abc7"
      },
      "source": [
        "bst=BinarySearchTree()\r\n",
        "bst.insert(50)\r\n",
        "bst.insert(30)\r\n",
        "bst.insert(20)\r\n",
        "res = bst.buscar(30) #true o false ?\r\n",
        "print(\"dato : \"+ str(res))\r\n",
        "print(bst.buscar(40))\r\n",
        "print(\"recorrido pre: \")\r\n",
        "bst.transversal(format=\"preorden\")\r\n",
        "print(\"recorrido in: \")\r\n",
        "bst.transversal(format=\"inorden\")\r\n",
        "print(\"recorrido iposn: \")\r\n",
        "bst.transversal(format=\"posorden\")"
      ],
      "execution_count": 26,
      "outputs": [
        {
          "output_type": "stream",
          "text": [
            "dato : False\n",
            "False\n",
            "recorrido pre: \n",
            "recorrido in: \n"
          ],
          "name": "stdout"
        }
      ]
    }
  ]
}