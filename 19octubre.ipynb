{
  "nbformat": 4,
  "nbformat_minor": 0,
  "metadata": {
    "colab": {
      "name": "19octubre.ipynb",
      "provenance": [],
      "authorship_tag": "ABX9TyNXIZj9TYxOSsH2Etl5MGNj",
      "include_colab_link": true
    },
    "kernelspec": {
      "name": "python3",
      "display_name": "Python 3"
    }
  },
  "cells": [
    {
      "cell_type": "markdown",
      "metadata": {
        "id": "view-in-github",
        "colab_type": "text"
      },
      "source": [
        "<a href=\"https://colab.research.google.com/github/Oziel-Rojas5/daa_2021_1/blob/master/19octubre.ipynb\" target=\"_parent\"><img src=\"https://colab.research.google.com/assets/colab-badge.svg\" alt=\"Open In Colab\"/></a>"
      ]
    },
    {
      "cell_type": "code",
      "metadata": {
        "id": "i6Fz9r_YfnVI",
        "outputId": "43ae8a14-6f66-467c-cf39-3fa289d98d90",
        "colab": {
          "base_uri": "https://localhost:8080/",
          "height": 272
        }
      },
      "source": [
        "a2d = [[3,2,1],[6,4,8],[7,4,2]]\n",
        " \n",
        "\n",
        "total = 0\n",
        "print(\"nivel 1\")\n",
        "for ren in range( len(a2d) ):\n",
        "  suma_renglon = 0\n",
        "  print(\"nivel 2\")\n",
        "  for col in range( len(a2d) ):\n",
        "    suma_renglon += a2d[ren][col]\n",
        "    total += a2d[ren][col]\n",
        "    print(\"nivel 3\")\n",
        "\n",
        "print(total)"
      ],
      "execution_count": 1,
      "outputs": [
        {
          "output_type": "stream",
          "text": [
            "nivel 1\n",
            "nivel 2\n",
            "nivel 3\n",
            "nivel 3\n",
            "nivel 3\n",
            "nivel 2\n",
            "nivel 3\n",
            "nivel 3\n",
            "nivel 3\n",
            "nivel 2\n",
            "nivel 3\n",
            "nivel 3\n",
            "nivel 3\n",
            "37\n"
          ],
          "name": "stdout"
        }
      ]
    }
  ]
}