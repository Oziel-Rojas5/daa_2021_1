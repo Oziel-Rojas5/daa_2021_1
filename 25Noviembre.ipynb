{
  "nbformat": 4,
  "nbformat_minor": 0,
  "metadata": {
    "colab": {
      "name": "25Noviembre.ipynb",
      "provenance": [],
      "authorship_tag": "ABX9TyNXi5tEue5Pc78LIeF5iGHz",
      "include_colab_link": true
    },
    "kernelspec": {
      "name": "python3",
      "display_name": "Python 3"
    }
  },
  "cells": [
    {
      "cell_type": "markdown",
      "metadata": {
        "id": "view-in-github",
        "colab_type": "text"
      },
      "source": [
        "<a href=\"https://colab.research.google.com/github/Oziel-Rojas5/daa_2021_1/blob/master/25Noviembre.ipynb\" target=\"_parent\"><img src=\"https://colab.research.google.com/assets/colab-badge.svg\" alt=\"Open In Colab\"/></a>"
      ]
    },
    {
      "cell_type": "code",
      "metadata": {
        "colab": {
          "base_uri": "https://localhost:8080/"
        },
        "id": "FNIC2zaIGCL1",
        "outputId": "7bab6a96-7132-4251-8db3-60de23173fa4"
      },
      "source": [
        "frase=\"El lema que anima a la Universidad Nacional, Por mi raza hablará el espíritu, revela la vocación humanística con la que fue concebida. El autor de esta célebre frase, José Vasconcelos, asumió la rectoría en 1920, en una época en que las esperanzas de la Revolución aún estaban vivas, había una gran fe en la Patria y el ánimo redentor se extendía en el ambiente.\"\n",
        "\n",
        "frase=frase.strip().replace(\"\\n\",\"\").replace(\",\",\"\").replace(\".\",\"\").lower().split(\" \")\n",
        "print(frase)\n",
        "frecuencias={}\n",
        "\n",
        "for index in range(len(frase)):\n",
        "  for pivote in range(index+1,len(frase),1):\n",
        "    if frase[index] in frecuencias:\n",
        "      pass\n",
        "    else:\n",
        "      frecuencias[frase[index]]=1\n",
        "      for pivote in range(index+1,len(frase),1):\n",
        "        if frase[index]==frase[pivote]:\n",
        "          frecuencias[frase[index]]+=1\n",
        "    # print(frase[index],\"comparada contra:\",frase[pivote])\n",
        "\n",
        "print(frecuencias)"
      ],
      "execution_count": 3,
      "outputs": [
        {
          "output_type": "stream",
          "text": [
            "['el', 'lema', 'que', 'anima', 'a', 'la', 'universidad', 'nacional', 'por', 'mi', 'raza', 'hablará', 'el', 'espíritu', 'revela', 'la', 'vocación', 'humanística', 'con', 'la', 'que', 'fue', 'concebida', 'el', 'autor', 'de', 'esta', 'célebre', 'frase', 'josé', 'vasconcelos', 'asumió', 'la', 'rectoría', 'en', '1920', 'en', 'una', 'época', 'en', 'que', 'las', 'esperanzas', 'de', 'la', 'revolución', 'aún', 'estaban', 'vivas', 'había', 'una', 'gran', 'fe', 'en', 'la', 'patria', 'y', 'el', 'ánimo', 'redentor', 'se', 'extendía', 'en', 'el', 'ambiente']\n",
            "{'el': 5, 'lema': 1, 'que': 3, 'anima': 1, 'a': 1, 'la': 6, 'universidad': 1, 'nacional': 1, 'por': 1, 'mi': 1, 'raza': 1, 'hablará': 1, 'espíritu': 1, 'revela': 1, 'vocación': 1, 'humanística': 1, 'con': 1, 'fue': 1, 'concebida': 1, 'autor': 1, 'de': 2, 'esta': 1, 'célebre': 1, 'frase': 1, 'josé': 1, 'vasconcelos': 1, 'asumió': 1, 'rectoría': 1, 'en': 5, '1920': 1, 'una': 2, 'época': 1, 'las': 1, 'esperanzas': 1, 'revolución': 1, 'aún': 1, 'estaban': 1, 'vivas': 1, 'había': 1, 'gran': 1, 'fe': 1, 'patria': 1, 'y': 1, 'ánimo': 1, 'redentor': 1, 'se': 1, 'extendía': 1}\n"
          ],
          "name": "stdout"
        }
      ]
    },
    {
      "cell_type": "code",
      "metadata": {
        "colab": {
          "base_uri": "https://localhost:8080/"
        },
        "id": "8Sv42-7HFb8Z",
        "outputId": "bc641cef-dd5d-4c81-d900-fdcb4105c6a6"
      },
      "source": [
        "frase =\"\"\"El lema que anima a la Universidad Nacional, Por mi raza hablará el espíritu, revela la vocación humanística con la que fue concebida. El autor de esta célebre frase, José Vasconcelos, asumió la rectoría en 1920, en una época en que las esperanzas de la Revolución aún estaban vivas,\n",
        " había una gran fe en la Patria y el ánimo redentor se extendía en el ambiente.\"\"\"\n",
        "\n",
        "frase = frase.strip().replace(\"\\n\",\"\").replace(\",\",\"\").replace(\".\",\"\").lower().split(\" \")\n",
        "print(frase)\n",
        "frecuencias ={} \n",
        "for index in range (len(frase)):\n",
        "   print(hash(frase[index]))\n",
        "   if frase[index]in frecuencias:\n",
        "     frecuencias[frase[index]] += 1\n",
        "   else :\n",
        "      frecuencias[frase[index]] = 1\n",
        "print(frecuencias)\n"
      ],
      "execution_count": 2,
      "outputs": [
        {
          "output_type": "stream",
          "text": [
            "['el', 'lema', 'que', 'anima', 'a', 'la', 'universidad', 'nacional', 'por', 'mi', 'raza', 'hablará', 'el', 'espíritu', 'revela', 'la', 'vocación', 'humanística', 'con', 'la', 'que', 'fue', 'concebida', 'el', 'autor', 'de', 'esta', 'célebre', 'frase', 'josé', 'vasconcelos', 'asumió', 'la', 'rectoría', 'en', '1920', 'en', 'una', 'época', 'en', 'que', 'las', 'esperanzas', 'de', 'la', 'revolución', 'aún', 'estaban', 'vivas', 'había', 'una', 'gran', 'fe', 'en', 'la', 'patria', 'y', 'el', 'ánimo', 'redentor', 'se', 'extendía', 'en', 'el', 'ambiente']\n",
            "-960543306898590676\n",
            "6463814089945425128\n",
            "8608002483907111601\n",
            "-3874912185666694363\n",
            "8776100412355551616\n",
            "-6462736267596896463\n",
            "510175386521166703\n",
            "-2891408268500930144\n",
            "-6155771457199442809\n",
            "-4530230408253746050\n",
            "301786052834399743\n",
            "-155003529974576471\n",
            "-960543306898590676\n",
            "-7119050415824948516\n",
            "8738306711472848519\n",
            "-6462736267596896463\n",
            "-441512800728306106\n",
            "3425924740576325533\n",
            "-2374549698915229497\n",
            "-6462736267596896463\n",
            "8608002483907111601\n",
            "-8959316969842387260\n",
            "-6834316573592689604\n",
            "-960543306898590676\n",
            "5333752577276105350\n",
            "3828687957898319337\n",
            "4342941924228337459\n",
            "8920535361831521242\n",
            "-1423219791897479312\n",
            "9180484411178704197\n",
            "-7606082056166050823\n",
            "-8671753955572112891\n",
            "-6462736267596896463\n",
            "-999726969295459866\n",
            "-2371487880173691109\n",
            "858740511167469801\n",
            "-2371487880173691109\n",
            "1077194384867501213\n",
            "3532420460678080002\n",
            "-2371487880173691109\n",
            "8608002483907111601\n",
            "-7567803463510698891\n",
            "-7764891401847859554\n",
            "3828687957898319337\n",
            "-6462736267596896463\n",
            "-1069714704543039135\n",
            "790949076949134965\n",
            "7854813571587288064\n",
            "-5748349600807185937\n",
            "-8375551874253516471\n",
            "1077194384867501213\n",
            "8105969434369662571\n",
            "4933662713517494260\n",
            "-2371487880173691109\n",
            "-6462736267596896463\n",
            "3062734086577822594\n",
            "-3914585307914142840\n",
            "-960543306898590676\n",
            "-672520611671955539\n",
            "-5933633067537322600\n",
            "6842246413064672085\n",
            "-428562082196443314\n",
            "-2371487880173691109\n",
            "-960543306898590676\n",
            "-8436195288600332464\n",
            "{'el': 5, 'lema': 1, 'que': 3, 'anima': 1, 'a': 1, 'la': 6, 'universidad': 1, 'nacional': 1, 'por': 1, 'mi': 1, 'raza': 1, 'hablará': 1, 'espíritu': 1, 'revela': 1, 'vocación': 1, 'humanística': 1, 'con': 1, 'fue': 1, 'concebida': 1, 'autor': 1, 'de': 2, 'esta': 1, 'célebre': 1, 'frase': 1, 'josé': 1, 'vasconcelos': 1, 'asumió': 1, 'rectoría': 1, 'en': 5, '1920': 1, 'una': 2, 'época': 1, 'las': 1, 'esperanzas': 1, 'revolución': 1, 'aún': 1, 'estaban': 1, 'vivas': 1, 'había': 1, 'gran': 1, 'fe': 1, 'patria': 1, 'y': 1, 'ánimo': 1, 'redentor': 1, 'se': 1, 'extendía': 1, 'ambiente': 1}\n"
          ],
          "name": "stdout"
        }
      ]
    }
  ]
}