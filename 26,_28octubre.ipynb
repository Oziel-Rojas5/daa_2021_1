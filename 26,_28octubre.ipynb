{
  "nbformat": 4,
  "nbformat_minor": 0,
  "metadata": {
    "colab": {
      "name": "26, 28octubre.ipynb",
      "provenance": [],
      "authorship_tag": "ABX9TyM7srF+RMF61jp+4f8r53It",
      "include_colab_link": true
    },
    "kernelspec": {
      "name": "python3",
      "display_name": "Python 3"
    }
  },
  "cells": [
    {
      "cell_type": "markdown",
      "metadata": {
        "id": "view-in-github",
        "colab_type": "text"
      },
      "source": [
        "<a href=\"https://colab.research.google.com/github/Oziel-Rojas5/daa_2021_1/blob/master/26%2C_28octubre.ipynb\" target=\"_parent\"><img src=\"https://colab.research.google.com/assets/colab-badge.svg\" alt=\"Open In Colab\"/></a>"
      ]
    },
    {
      "cell_type": "code",
      "metadata": {
        "id": "oHdFsVJ0WCN2",
        "outputId": "4fe9b8b2-0a61-44ce-9788-22a0d0c8261a",
        "colab": {
          "base_uri": "https://localhost:8080/",
          "height": 35
        }
      },
      "source": [
        "[ ]\n",
        "1234567\n",
        "def ejemplo1( n ):\n",
        "    c = n + 1\n",
        "    d = c * n\n",
        "    e = n * n\n",
        "    total = c + e - d\n",
        "    print(f\"total={ total }\")\n",
        "ejemplo1( 99999 )"
      ],
      "execution_count": 1,
      "outputs": [
        {
          "output_type": "stream",
          "text": [
            "total=1\n"
          ],
          "name": "stdout"
        }
      ]
    },
    {
      "cell_type": "markdown",
      "metadata": {
        "id": "hXhWKP6iWRDx"
      },
      "source": [
        "Respecto al codigo anterior, cual es su T(n)?\n",
        "T(n) = 4"
      ]
    },
    {
      "cell_type": "code",
      "metadata": {
        "id": "vljn9xjqWR2y"
      },
      "source": [
        "def ejemplo2( n ):\n",
        "    contador = 0\n",
        "    for i in range( n ) :\n",
        "        for j in range( n ) :\n",
        "            contador += 1\n",
        "    return contador\n",
        "\n",
        "ejemplo2( 20 )"
      ],
      "execution_count": null,
      "outputs": []
    },
    {
      "cell_type": "markdown",
      "metadata": {
        "id": "1m2boqjcWUXH"
      },
      "source": [
        "Respacto al codigo anterior, cuan es su T(n)?\n",
        "T(n) = 1 + n^2"
      ]
    },
    {
      "cell_type": "code",
      "metadata": {
        "id": "niaao5sIWXVX"
      },
      "source": [
        "def ejemplo3( n ): # n=4\n",
        "    x = n * 2 # x = 8\n",
        "    y = 0   # y = 0\n",
        "    for m in range( 100 ): #3\n",
        "        y = x - n   # y = 4\n",
        "    return y\n",
        "\n",
        "ejemplo3(1000000000)"
      ],
      "execution_count": null,
      "outputs": []
    },
    {
      "cell_type": "markdown",
      "metadata": {
        "id": "ccGavHApWWma"
      },
      "source": [
        "Respecto al codigo anterior, cual es su T(n)?\n",
        "T(n) = 102"
      ]
    },
    {
      "cell_type": "code",
      "metadata": {
        "id": "IOtp4L_rWcYp"
      },
      "source": [
        "def ejemplo4( n ):\n",
        "    x = 3 * 3.1416 + n\n",
        "    y = x + 3 * 3 - n\n",
        "    z = x + y\n",
        "    return z\n",
        "\n",
        "ejemplo4(9)"
      ],
      "execution_count": null,
      "outputs": []
    },
    {
      "cell_type": "markdown",
      "metadata": {
        "id": "saJ0FrJeWe74"
      },
      "source": [
        "Respecto al codigo anterior, cual es su T(n)?\n",
        "T(n) = 3"
      ]
    },
    {
      "cell_type": "code",
      "metadata": {
        "id": "10RrCgw0WhX2"
      },
      "source": [
        "def ejemplo5( x ):\n",
        "    n = 10\n",
        "    for j in range( 0 , x , 1 ):\n",
        "        n = j + n\n",
        "    return n\n",
        "\n",
        "ejemplo5(10)"
      ],
      "execution_count": null,
      "outputs": []
    },
    {
      "cell_type": "markdown",
      "metadata": {
        "id": "9yF-dGeKWkR6"
      },
      "source": [
        "Respecto al codigo anterior, cual es su T(n)?\n",
        "T(n) = 1 + n"
      ]
    },
    {
      "cell_type": "code",
      "metadata": {
        "id": "1TP-jlQmWmD8"
      },
      "source": [
        "def ejemplo6( n ):\n",
        "    data=[[[1 for x in range(n)] for x in range(n)]\n",
        "          for x in range(n)]\n",
        "    suma = 0\n",
        "    for d in range(n):\n",
        "        for r in range(n):\n",
        "            for c in range(n):\n",
        "                suma += data[d][r][c]\n",
        "    return suma\n",
        "print(ejemplo6( 5 ))"
      ],
      "execution_count": null,
      "outputs": []
    },
    {
      "cell_type": "code",
      "metadata": {
        "id": "JbkLZKULWn_X"
      },
      "source": [
        "Respecto al codigo anterior, cual es su T(n)?\n",
        "T(n) = n^3 + 2"
      ],
      "execution_count": null,
      "outputs": []
    },
    {
      "cell_type": "code",
      "metadata": {
        "id": "LCF3EMxbWp8J"
      },
      "source": [
        "from time import time\n",
        "\n",
        "def ejemplo6( n ):\n",
        "    start_time = time()\n",
        "    data=[[[1 for x in range(n)] for x in range(n)] \n",
        "          for x in range(n)]\n",
        "    suma = 0\n",
        "    for d in range(n):\n",
        "        for r in range(n):\n",
        "            for c in range(n):\n",
        "                suma += data[d][r][c]\n",
        "    elapsed_time = time() - start_time\n",
        "    print(\"Tiempo transcurrido: %0.10f segundos.\" % elapsed_time)\n",
        "    return suma\n",
        "ejemplo6( 500 )"
      ],
      "execution_count": null,
      "outputs": []
    },
    {
      "cell_type": "markdown",
      "metadata": {
        "id": "Ty5eSnU_WtxG"
      },
      "source": [
        "Tiempo transcurrido: 17.9618854523 segundos.\n",
        "125000000"
      ]
    },
    {
      "cell_type": "code",
      "metadata": {
        "id": "7H3e-qvbWv8d"
      },
      "source": [
        "def ejemplo7_2( n ):\n",
        "    count = 0\n",
        "    for i in range( n ) :\n",
        "        for j in range( 25 ) :\n",
        "            for k in range( n ):\n",
        "                count += 1\n",
        "            for k in range( n ):\n",
        "                count += 1\n",
        "    return count # 1 + 25n^2 +25n^2\n",
        "ejemplo7_2( 3 )"
      ],
      "execution_count": null,
      "outputs": []
    },
    {
      "cell_type": "markdown",
      "metadata": {
        "id": "wN45GFJZWzfK"
      },
      "source": [
        "\n",
        "T(n) = 1 + 25n^2 +25n^2\n",
        "\n",
        "O(n) = n^2"
      ]
    },
    {
      "cell_type": "code",
      "metadata": {
        "id": "7bj4a5DfW0AP"
      },
      "source": [
        "def ejemplo8( numeros ): # numeros es una lista (arreglo en c)\n",
        "    total = 0\n",
        "    for index in range(len(numeros)):\n",
        "        total = numeros[index]\n",
        "    return total\n",
        "ejemplo8(numeros)"
      ],
      "execution_count": null,
      "outputs": []
    },
    {
      "cell_type": "markdown",
      "metadata": {
        "id": "UL5gMInwW2GS"
      },
      "source": [
        "T(n) = 1 + n\n",
        "\n",
        "O(n) = n"
      ]
    },
    {
      "cell_type": "code",
      "metadata": {
        "id": "4-itJuCEW365"
      },
      "source": [
        "def ejemplo9(  n ):\n",
        "    contador = 0\n",
        "    basura = 0\n",
        "    for i in range( n ) :\n",
        "        contador += 1\n",
        "    for j in range( n ) :\n",
        "        contador += 1\n",
        "    basura = basura + contador\n",
        "    return contador\n",
        "\n",
        "\n",
        "print(ejemplo9( 5 ))"
      ],
      "execution_count": null,
      "outputs": []
    },
    {
      "cell_type": "code",
      "metadata": {
        "id": "No6cXefsW7sS"
      },
      "source": [
        "T(n) = 3+2\n",
        "\n",
        "O(n) = n"
      ],
      "execution_count": null,
      "outputs": []
    },
    {
      "cell_type": "code",
      "metadata": {
        "id": "ksfj0w7WW9TN"
      },
      "source": [
        "def ejemplo10( n ):\n",
        "  count = 0\n",
        "  for i in range( n ) :\n",
        "    for j in range( i+1 ) :\n",
        "      count += 1\n",
        "  return count\n",
        "\n",
        "print(ejemplo10(5))"
      ],
      "execution_count": null,
      "outputs": []
    },
    {
      "cell_type": "markdown",
      "metadata": {
        "id": "AB0YlzDkW_fT"
      },
      "source": [
        "T(n) = 1 + (n^2-n)/ 2"
      ]
    },
    {
      "cell_type": "markdown",
      "metadata": {
        "id": "VnshfnuVcm_p"
      },
      "source": [
        "n= 3\n",
        "000\n",
        "\n",
        "n00 <-- aqui empieza el for interno\n",
        "\n",
        "nn0 <--- aqui termina el for interno\n",
        "\n",
        "nnn\n",
        "\n",
        "n = 4\n",
        "\n",
        "0000\n",
        "\n",
        "n000 <-- aqui empieza el for interno\n",
        "\n",
        "nn00\n",
        "\n",
        "nnn0 <--- aqui termina el for interno\n",
        "\n",
        "nnnn\n",
        "\n",
        "n =5\n",
        "\n",
        "00000\n",
        "\n",
        "n0000 <-- aqui empieza el for interno\n",
        "\n",
        "nn000\n",
        "\n",
        "nnn00\n",
        "\n",
        "nnnn0 <--- aqui termina el for interno\n",
        "\n",
        "nnnnn"
      ]
    },
    {
      "cell_type": "code",
      "metadata": {
        "id": "0jAskPThXFBA"
      },
      "source": [
        "def ejemplo11( n ):\n",
        "    count = 0\n",
        "    i = n\n",
        "    while i > 1 :\n",
        "        count += 1\n",
        "        i = i // 2 \n",
        "    return count\n",
        "print(ejemplo11(16))\n",
        "# T(n) =  2 + (2 Log 2 n)"
      ],
      "execution_count": null,
      "outputs": []
    },
    {
      "cell_type": "markdown",
      "metadata": {
        "id": "axzuSL2HhRCm"
      },
      "source": [
        "T(n) =  2 + (2 Log 2 n)\n"
      ]
    },
    {
      "cell_type": "code",
      "metadata": {
        "id": "KjlpVjU1h5cG"
      },
      "source": [
        "def ejemplo12( n ):\n",
        "    contador = 0\n",
        "    for x in range(n):\n",
        "        contador += ejemplo11(x)\n",
        "    return contador"
      ],
      "execution_count": null,
      "outputs": []
    },
    {
      "cell_type": "markdown",
      "metadata": {
        "id": "Blh9RkZzh6cV"
      },
      "source": [
        "  ## 1+n(2+2log2(n))"
      ]
    },
    {
      "cell_type": "code",
      "metadata": {
        "id": "6GM5vo4nktEz"
      },
      "source": [
        "def ejemplo12_bis( n=5 ):\n",
        "    contador = 0\n",
        "    contador = contador + ejemplo11(0) # 0\n",
        "    contador = contador + ejemplo11(1) # 0\n",
        "    contador = contador + ejemplo11(2) # 1\n",
        "    contador = contador + ejemplo11(3) # 1\n",
        "    contador = contador + ejemplo11(4) # 2\n",
        "    return contador\n",
        "ejemplo12_bis( 5 )  \n"
      ],
      "execution_count": null,
      "outputs": []
    },
    {
      "cell_type": "code",
      "metadata": {
        "id": "1g0O8gAKmd96"
      },
      "source": [
        "def ejemplo13( x ):\n",
        "    bandera = x\n",
        "    contador = 0\n",
        "    while( bandera >= 10):\n",
        "        print(f\" x = { bandera } \")\n",
        "        bandera /= 10\n",
        "        contador = contador + 1\n",
        "    print(contador)\n",
        "# T(x) = log10 x +1\n",
        "ejemplo13( 1000 )"
      ],
      "execution_count": null,
      "outputs": []
    },
    {
      "cell_type": "markdown",
      "metadata": {
        "id": "6FQ6aa03me9S"
      },
      "source": [
        "1+log10(x)\n"
      ]
    },
    {
      "cell_type": "code",
      "metadata": {
        "id": "shZ12HH6mlgC"
      },
      "source": [
        "def ejemplo14( n ):\n",
        "    y = n\n",
        "    z = n\n",
        "    contador = 0\n",
        "    while y >= 3: #3\n",
        "        y /= 3  # 1\n",
        "        contador += 1  # cont =3\n",
        "    \n",
        "    while z >= 3: #27\n",
        "        z /= 3\n",
        "        contador += 1\n",
        "    return contador\n",
        "print(ejemplo14( 27 ))"
      ],
      "execution_count": null,
      "outputs": []
    },
    {
      "cell_type": "markdown",
      "metadata": {
        "id": "gIsfl8kKoixC"
      },
      "source": [
        "2log3(n)"
      ]
    },
    {
      "cell_type": "code",
      "metadata": {
        "id": "loZE5-erozIz"
      },
      "source": [
        "def ejemplo15( n ): \n",
        "    contador = 0\n",
        "    for i in range( n ) :\n",
        "        for j in range( n ) :\n",
        "            contador += 1\n",
        "            \n",
        "    while n > 1 :\n",
        "        contador += 1\n",
        "        n /= 2\n",
        "    return contador\n",
        "\n",
        "print(ejemplo15(10))"
      ],
      "execution_count": null,
      "outputs": []
    },
    {
      "cell_type": "markdown",
      "metadata": {
        "id": "mPfOE50xo55D"
      },
      "source": [
        "1+n^2+log2(n)"
      ]
    },
    {
      "cell_type": "code",
      "metadata": {
        "id": "C70abgQRvSM2",
        "outputId": "5aa9301b-954a-4ce0-a7c0-2099f7be28e4",
        "colab": {
          "base_uri": "https://localhost:8080/",
          "height": 135
        }
      },
      "source": [
        "h1 = 0\n",
        "h2 = 0\n",
        "m1 = 0\n",
        "m2 = 0   # 1440 + 24 *6\n",
        "contador = 0   # 5 + (1440 + ?) * 2 + 144 + 24 + 2= 3057\n",
        "\n",
        "while [h1, h2, m1, m2] != [2,3,5,9]:\n",
        "  if [h1, h2] == [m2, m1]:\n",
        "    \n",
        "    print(h1, h2,\":\", m1, m2)    \n",
        "    m2 = m2 + 1\n",
        "\n",
        "    if m2 == 10:\n",
        "      m2 = 0\n",
        "      m1 = m1 + 1\n",
        "\n",
        "    if m1 == 6:\n",
        "      h2 = h2 + 1\n",
        "      m2 = 0\n",
        "    contador = contador + 1\n",
        "\n",
        "  m2 = m2 + 1\n",
        "  if m2 == 10:\n",
        "      m2 = 0\n",
        "      m1 = m1 + 1\n",
        "  if m1 == 6:\n",
        "    m1 = 0\n",
        "    h2 = h2 +1\n",
        "  if h2 == 10:\n",
        "    h2 = 0\n",
        "    h1 = h1 +1\n",
        "print(\"Nume\n",
        "print(\"Numero de palindromos: \",contador)"
      ],
      "execution_count": 2,
      "outputs": [
        {
          "output_type": "error",
          "ename": "SyntaxError",
          "evalue": "ignored",
          "traceback": [
            "\u001b[0;36m  File \u001b[0;32m\"<ipython-input-2-bbf13fb9ad45>\"\u001b[0;36m, line \u001b[0;32m32\u001b[0m\n\u001b[0;31m    print(\"Nume\u001b[0m\n\u001b[0m               ^\u001b[0m\n\u001b[0;31mSyntaxError\u001b[0m\u001b[0;31m:\u001b[0m EOL while scanning string literal\n"
          ]
        }
      ]
    },
    {
      "cell_type": "code",
      "metadata": {
        "id": "P--AZdmF4kWo"
      },
      "source": [
        "lista=[]\n",
        "for i in range(0,24,1):   # 24\n",
        "  for j in range(0,60,1): # 60    1440\n",
        "    if i<10:\n",
        "      if j<10:\n",
        "        lista.append(\"0\"+str(i)+\":\"+\"0\"+str(j))\n",
        "      elif j>=10:\n",
        "        lista.append(\"0\"+str(i)+\":\"+str(j))\n",
        "    else:\n",
        "      if i>=10:\n",
        "        if j<10:\n",
        "          lista.append(str(i)+\":\"+\"0\"+str(j))\n",
        "        elif j>=10:\n",
        "          lista.append(str(i)+\":\"+str(j))\n",
        "# 1440 + 2 + 1440 + 16 * 2 = 2900\n",
        "lista2=[]\n",
        "contador=0\n",
        "for i in range(len(lista)): # 1440\n",
        "  x=lista[i][::-1]\n",
        "  if x==lista[i]:\n",
        "    lista2.append(x)\n",
        "    contador=contador+1\n",
        "print(contador)\n",
        "for j in (lista2):\n",
        "  print(j)"
      ],
      "execution_count": null,
      "outputs": []
    },
    {
      "cell_type": "code",
      "metadata": {
        "id": "AF4Enx4c4l60"
      },
      "source": [
        "for x in range (0,24,1):\n",
        "  for y in range(0,60,1): #1440 * 3 +13 = 4333\n",
        "    hora=str(x)+\":\"+str(y)\n",
        "    if x<10:\n",
        "      hora=\"0\"+str(x)+\":\"+str(y)\n",
        "    if y<10:\n",
        "      hora=str(x)+\"0\"+\":\"+str(y)\n",
        "\n",
        "    p=hora[::-1]\n",
        "    if  p==hora:\n",
        "      print(f\"{hora} es palindromo\")"
      ],
      "execution_count": null,
      "outputs": []
    },
    {
      "cell_type": "code",
      "metadata": {
        "id": "9bUc58Pl5Zm0"
      },
      "source": [
        "#solucion:\n",
        "total = int(0) #Contador de numero de palindromos\n",
        "for hor in range(0,24): #Bucles anidados for para dar aumentar las horas y los minutos al mismo tiempo\n",
        "  for min in range(0,60): \n",
        "\n",
        "    hor_n = str(hor) #Variables\n",
        "    min_n = str(min)\n",
        "\n",
        "    if (hor<10): #USamos condiciones para que las horas y los minutos no rebasen el horario\n",
        "      hor_n = (\"0\"+hor_n)\n",
        "\n",
        "    if (min<10):\n",
        "      min_n = (\"0\"+ min_n)\n",
        "\n",
        "    if (hor_n[::-1] == min_n): #Mediante un slicing le damos el formato a las horas para que este empiece desde la derecha\n",
        "      print(\"{}:{}\".format(hor_n,min_n))\n",
        "      total += 1\n",
        "#1  + 1440 * 5 =7201"
      ],
      "execution_count": null,
      "outputs": []
    }
  ]
}