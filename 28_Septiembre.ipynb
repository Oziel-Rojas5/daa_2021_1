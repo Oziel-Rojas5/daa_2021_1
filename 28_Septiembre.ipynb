{
  "nbformat": 4,
  "nbformat_minor": 0,
  "metadata": {
    "colab": {
      "name": "28 Septiembre.ipynb",
      "provenance": [],
      "toc_visible": true,
      "authorship_tag": "ABX9TyPnXHwWMBsHDAWYA75CRKrN",
      "include_colab_link": true
    },
    "kernelspec": {
      "name": "python3",
      "display_name": "Python 3"
    }
  },
  "cells": [
    {
      "cell_type": "markdown",
      "metadata": {
        "id": "view-in-github",
        "colab_type": "text"
      },
      "source": [
        "<a href=\"https://colab.research.google.com/github/Oziel-Rojas5/daa_2021_1/blob/master/28_Septiembre.ipynb\" target=\"_parent\"><img src=\"https://colab.research.google.com/assets/colab-badge.svg\" alt=\"Open In Colab\"/></a>"
      ]
    },
    {
      "cell_type": "code",
      "metadata": {
        "id": "Ak-vnRhDBmSk"
      },
      "source": [
        ""
      ],
      "execution_count": null,
      "outputs": []
    },
    {
      "cell_type": "markdown",
      "metadata": {
        "id": "rZo0c9jHCsJt"
      },
      "source": [
        "## Sección 1"
      ]
    },
    {
      "cell_type": "markdown",
      "metadata": {
        "id": "RXRHhinOEEnc"
      },
      "source": [
        "En este archico aprenderemos a programar en python con la erramienta de google, colab.research\n",
        "\n",
        "Tambien aprenderemos a cambiar los cambios a nuestro repositorio de GitHub\n"
      ]
    },
    {
      "cell_type": "markdown",
      "metadata": {
        "id": "ZKA-NuX2Gf9m"
      },
      "source": [
        "###Ejemplo de codigo"
      ]
    },
    {
      "cell_type": "code",
      "metadata": {
        "id": "5HzoKy6tEHpJ",
        "outputId": "6e4ff314-4be0-430f-a6f9-1c9e9aef4a60",
        "colab": {
          "base_uri": "https://localhost:8080/",
          "height": 34
        }
      },
      "source": [
        "frutas = []\n",
        "frutas.append(\"Manzana\")\n",
        "frutas.append(\"Piña\")\n",
        "frutas.append(\"Kiwi\")\n",
        "print(frutas)"
      ],
      "execution_count": 2,
      "outputs": [
        {
          "output_type": "stream",
          "text": [
            "['Manzana', 'Piña', 'Kiwi']\n"
          ],
          "name": "stdout"
        }
      ]
    },
    {
      "cell_type": "code",
      "metadata": {
        "id": "pkGVS5NjH1r4",
        "outputId": "117f9613-c484-41b0-aeb0-599f964450a3",
        "colab": {
          "base_uri": "https://localhost:8080/",
          "height": 34
        }
      },
      "source": [
        "archivo = open(\"prueba_daa.txt\",\"wt\")\n",
        "archivo.write(\"hola mundo jupiter\")\n",
        "archivo.close\n"
      ],
      "execution_count": 3,
      "outputs": [
        {
          "output_type": "execute_result",
          "data": {
            "text/plain": [
              "<function TextIOWrapper.close>"
            ]
          },
          "metadata": {
            "tags": []
          },
          "execution_count": 3
        }
      ]
    }
  ]
}