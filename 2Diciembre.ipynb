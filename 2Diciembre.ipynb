{
  "nbformat": 4,
  "nbformat_minor": 0,
  "metadata": {
    "colab": {
      "name": "2Diciembre.ipynb",
      "provenance": [],
      "authorship_tag": "ABX9TyNBwMPqZt6rkiUYVdTjlVPj",
      "include_colab_link": true
    },
    "kernelspec": {
      "name": "python3",
      "display_name": "Python 3"
    }
  },
  "cells": [
    {
      "cell_type": "markdown",
      "metadata": {
        "id": "view-in-github",
        "colab_type": "text"
      },
      "source": [
        "<a href=\"https://colab.research.google.com/github/Oziel-Rojas5/daa_2021_1/blob/master/2Diciembre.ipynb\" target=\"_parent\"><img src=\"https://colab.research.google.com/assets/colab-badge.svg\" alt=\"Open In Colab\"/></a>"
      ]
    },
    {
      "cell_type": "code",
      "metadata": {
        "id": "KvB8d_B-_TqI"
      },
      "source": [
        "def fnRecInfinita():\n",
        "    print(\"Hola\")\n",
        "    fnRecInfinita()"
      ],
      "execution_count": null,
      "outputs": []
    },
    {
      "cell_type": "code",
      "metadata": {
        "id": "VEs4QfgHAT3j"
      },
      "source": [
        "nfRecInfinita()"
      ],
      "execution_count": null,
      "outputs": []
    },
    {
      "cell_type": "code",
      "metadata": {
        "colab": {
          "base_uri": "https://localhost:8080/"
        },
        "id": "2QNsRQkgAY3T",
        "outputId": "392f5ac2-00c2-4f08-defa-0be5b822885e"
      },
      "source": [
        "def fnRec( x ):\n",
        "    if x == 0:\n",
        "        print(\"Stop\")\n",
        "    else :\n",
        "        fnRec( x -1 )\n",
        "        print( x )\n",
        "\n",
        "def main():\n",
        "    print(\"Inicio del programa\")\n",
        "    fnRec(5)\n",
        "    print(\"Fin del programa\")\n",
        "\n",
        "main()"
      ],
      "execution_count": null,
      "outputs": [
        {
          "output_type": "stream",
          "text": [
            "Inicio del programa\n",
            "Stop\n",
            "1\n",
            "2\n",
            "3\n",
            "4\n",
            "5\n",
            "Fin del programa\n"
          ],
          "name": "stdout"
        }
      ]
    },
    {
      "cell_type": "code",
      "metadata": {
        "colab": {
          "base_uri": "https://localhost:8080/"
        },
        "id": "pKMiaCXuCGsQ",
        "outputId": "06ed56f0-5308-4b21-e01d-a88a32ca61d4"
      },
      "source": [
        "def printRev(x):\n",
        "  if x>0:\n",
        "    print(x)\n",
        "    printRev(x- 1)\n",
        "printRev(3)"
      ],
      "execution_count": null,
      "outputs": [
        {
          "output_type": "stream",
          "text": [
            "3\n",
            "2\n",
            "1\n"
          ],
          "name": "stdout"
        }
      ]
    },
    {
      "cell_type": "code",
      "metadata": {
        "colab": {
          "base_uri": "https://localhost:8080/"
        },
        "id": "EkcD-vRxIzEV",
        "outputId": "ac260c4b-7419-4abd-eb0a-484bed336782"
      },
      "source": [
        "def fibonacci(n):\n",
        "    if n == 1 or n == 0:\n",
        "      return n\n",
        "    else :\n",
        "      return (fibonacci(n-1) + fibonacci(n-2) )\n",
        "\n",
        "print(fibonacci(8))"
      ],
      "execution_count": null,
      "outputs": [
        {
          "output_type": "stream",
          "text": [
            "21\n"
          ],
          "name": "stdout"
        }
      ]
    }
  ]
}