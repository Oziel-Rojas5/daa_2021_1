{
  "nbformat": 4,
  "nbformat_minor": 0,
  "metadata": {
    "colab": {
      "name": "30Noviembre.ipynb",
      "provenance": [],
      "authorship_tag": "ABX9TyOFCrODSfx97b37uRktwuKl",
      "include_colab_link": true
    },
    "kernelspec": {
      "name": "python3",
      "display_name": "Python 3"
    }
  },
  "cells": [
    {
      "cell_type": "markdown",
      "metadata": {
        "id": "view-in-github",
        "colab_type": "text"
      },
      "source": [
        "<a href=\"https://colab.research.google.com/github/Oziel-Rojas5/daa_2021_1/blob/master/30Noviembre.ipynb\" target=\"_parent\"><img src=\"https://colab.research.google.com/assets/colab-badge.svg\" alt=\"Open In Colab\"/></a>"
      ]
    },
    {
      "cell_type": "code",
      "metadata": {
        "colab": {
          "base_uri": "https://localhost:8080/"
        },
        "id": "aZFKdw0gpSHK",
        "outputId": "9782a4a0-e159-45be-cec3-d2df8a97b4e1"
      },
      "source": [
        "A = \"AELASESLALSALSALSALSALSALASLSLSLSLSALALALALASALSALLSALAS\"\n",
        "P = \"LAS\"\n",
        "N=len(A)\n",
        "M=len(P)\n",
        "def fuerza_bruta (A,P):\n",
        "  for i in range (N-M+1):\n",
        "    for j in range (M):\n",
        "      if A[i+j] != P[j]:\n",
        "        break\n",
        "      else:\n",
        "        pass\n",
        "    if j+1==M and A[i+j]==P[j]:\n",
        "      print(\"Encontrado en la posiocion:\",i)\n",
        "fuerza_bruta(A,P)"
      ],
      "execution_count": 1,
      "outputs": [
        {
          "output_type": "stream",
          "text": [
            "Encontrado en la posiocion: 2\n",
            "Encontrado en la posiocion: 24\n",
            "Encontrado en la posiocion: 42\n",
            "Encontrado en la posiocion: 53\n"
          ],
          "name": "stdout"
        }
      ]
    }
  ]
}