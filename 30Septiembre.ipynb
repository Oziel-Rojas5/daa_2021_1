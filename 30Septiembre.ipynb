{
  "nbformat": 4,
  "nbformat_minor": 0,
  "metadata": {
    "colab": {
      "name": "30Septiembre.ipynb",
      "provenance": [],
      "authorship_tag": "ABX9TyM60DP+GgeNPwzHb3XPWjcF",
      "include_colab_link": true
    },
    "kernelspec": {
      "name": "python3",
      "display_name": "Python 3"
    }
  },
  "cells": [
    {
      "cell_type": "markdown",
      "metadata": {
        "id": "view-in-github",
        "colab_type": "text"
      },
      "source": [
        "<a href=\"https://colab.research.google.com/github/Oziel-Rojas5/daa_2021_1/blob/master/30Septiembre.ipynb\" target=\"_parent\"><img src=\"https://colab.research.google.com/assets/colab-badge.svg\" alt=\"Open In Colab\"/></a>"
      ]
    },
    {
      "cell_type": "markdown",
      "metadata": {
        "id": "sfP91eG9QOWh"
      },
      "source": [
        "# Palindromo.\n",
        "Es una palabra que se lee, de igual forma de un sentido y de sentido inverso, ejemplo:\n",
        "1. sugus\n",
        "2. oso\n",
        "3. reconocer\n",
        "4. 10101\n",
        "5. 10:01\n",
        "etc.\n",
        "\n",
        "## Planteamineto del problema.\n",
        "\n",
        "Se desea encontra todos los palindromos que existen en la franja horaria de un dia completo, tomando como horario inicial 00:00 y con horario final 13:59 horas.\n",
        "\n",
        "El algoritmo debe mostrar todos los palindromos exixtentes en ese rango, al final debe mostrar el conteo total de palindromos que existen.\n",
        "\n"
      ]
    },
    {
      "cell_type": "code",
      "metadata": {
        "id": "aBoVD1pjPt0d",
        "outputId": "8de13bcf-acb6-4de6-804d-7cfffd46cba3",
        "colab": {
          "base_uri": "https://localhost:8080/",
          "height": 425
        }
      },
      "source": [
        "horarios=\"0000\"\n",
        "while horarios!=\"2359\":\n",
        "  inv=horarios[::-1]\n",
        "  if horarios==inv:\n",
        "    print(horarios)\n",
        "  new=int(horarios)\n",
        "  new+=1\n",
        "  horarios=str(new).zfill(4)"
      ],
      "execution_count": 9,
      "outputs": [
        {
          "output_type": "stream",
          "text": [
            "0000\n",
            "0110\n",
            "0220\n",
            "0330\n",
            "0440\n",
            "0550\n",
            "0660\n",
            "0770\n",
            "0880\n",
            "0990\n",
            "1001\n",
            "1111\n",
            "1221\n",
            "1331\n",
            "1441\n",
            "1551\n",
            "1661\n",
            "1771\n",
            "1881\n",
            "1991\n",
            "2002\n",
            "2112\n",
            "2222\n",
            "2332\n"
          ],
          "name": "stdout"
        }
      ]
    }
  ]
}