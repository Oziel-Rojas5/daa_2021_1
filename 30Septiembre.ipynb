{
  "nbformat": 4,
  "nbformat_minor": 0,
  "metadata": {
    "colab": {
      "name": "30Septiembre.ipynb",
      "provenance": [],
      "authorship_tag": "ABX9TyNsPhwLA0pnn91Q80SmdUxd",
      "include_colab_link": true
    },
    "kernelspec": {
      "name": "python3",
      "display_name": "Python 3"
    }
  },
  "cells": [
    {
      "cell_type": "markdown",
      "metadata": {
        "id": "view-in-github",
        "colab_type": "text"
      },
      "source": [
        "<a href=\"https://colab.research.google.com/github/Oziel-Rojas5/daa_2021_1/blob/master/30Septiembre.ipynb\" target=\"_parent\"><img src=\"https://colab.research.google.com/assets/colab-badge.svg\" alt=\"Open In Colab\"/></a>"
      ]
    },
    {
      "cell_type": "markdown",
      "metadata": {
        "id": "sfP91eG9QOWh"
      },
      "source": [
        "# Palindromo.\n",
        "Es una palabra que se lee, de igual forma de un sentido y de sentido inverso, ejemplo:\n",
        "1. sugus\n",
        "2. oso\n",
        "3. reconocer\n",
        "4. 10101\n",
        "5. 10:01\n",
        "etc.\n",
        "\n",
        "## Planteamineto del problema.\n",
        "\n",
        "Se desea encontra todos los palindromos que existen en la franja horaria de un dia completo, tomando como horario inicial 00:00 y con horario final 13:59 horas.\n",
        "\n",
        "El algoritmo debe mostrar todos los palindromos exixtentes en ese rango, al final debe mostrar el conteo total de palindromos que existen.\n",
        "\n"
      ]
    },
    {
      "cell_type": "code",
      "metadata": {
        "id": "aBoVD1pjPt0d",
        "outputId": "367c1e65-db06-4287-9578-a8931bdfe57a",
        "colab": {
          "base_uri": "https://localhost:8080/",
          "height": 306
        }
      },
      "source": [
        "horario=\"0000\"\n",
        "contador=0\n",
        "while horario!=\"2359\":\n",
        "\n",
        "  inv=horario[::-1]\n",
        "  if horario==inv and int(horario[2])<=5:\n",
        "    contador+=1\n",
        "    print(horario[0:2],\":\",horario[2:4])\n",
        "  new=int(horario)\n",
        "  new+=1\n",
        "  horario=str(new).zfill(4)\n",
        "print(\"son \",contador,\"palindromos\")"
      ],
      "execution_count": 10,
      "outputs": [
        {
          "output_type": "stream",
          "text": [
            "00 : 00\n",
            "01 : 10\n",
            "02 : 20\n",
            "03 : 30\n",
            "04 : 40\n",
            "05 : 50\n",
            "10 : 01\n",
            "11 : 11\n",
            "12 : 21\n",
            "13 : 31\n",
            "14 : 41\n",
            "15 : 51\n",
            "20 : 02\n",
            "21 : 12\n",
            "22 : 22\n",
            "23 : 32\n",
            "son  16 palindromos\n"
          ],
          "name": "stdout"
        }
      ]
    }
  ]
}