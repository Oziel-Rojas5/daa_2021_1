{
  "nbformat": 4,
  "nbformat_minor": 0,
  "metadata": {
    "colab": {
      "name": "5octubre.ipynb",
      "provenance": [],
      "authorship_tag": "ABX9TyP2hsK9RWoyqat3x2zfNZJf",
      "include_colab_link": true
    },
    "kernelspec": {
      "name": "python3",
      "display_name": "Python 3"
    }
  },
  "cells": [
    {
      "cell_type": "markdown",
      "metadata": {
        "id": "view-in-github",
        "colab_type": "text"
      },
      "source": [
        "<a href=\"https://colab.research.google.com/github/Oziel-Rojas5/daa_2021_1/blob/master/5octubre.ipynb\" target=\"_parent\"><img src=\"https://colab.research.google.com/assets/colab-badge.svg\" alt=\"Open In Colab\"/></a>"
      ]
    },
    {
      "cell_type": "markdown",
      "metadata": {
        "id": "o9ug7wYVABxN"
      },
      "source": [
        "# Estructura de datos pila (stack)\n",
        "- last in, first out\n",
        "- De tipo lineal\n",
        "- se pueden obtener e ingresar datos desde el topoe\n",
        "- push para agregar \n",
        "- pop para sacar \n",
        "\n",
        "## Operaciones de las pilas\n",
        "1. is_empty (regresa un true o false)\n",
        "2. get_top (regresa el elemento en el tope, sin sacarlo)\n",
        "3. pop (saca el elemento del tope y lo muestra)\n",
        "4. push (mete un elemento en el tope)\n",
        "5. get_length (regresa el numero de elementos de la pila)"
      ]
    },
    {
      "cell_type": "code",
      "metadata": {
        "id": "RCxO-W1L_WiA"
      },
      "source": [
        "# estructura de datos pila (stack)\n",
        "class Stack:\n",
        "  def __init__(self):\n",
        "    self.__datos=[]\n",
        "\n",
        "  def is_empty( self):\n",
        "    return len(self.__datos)== 0\n",
        "\n",
        "  def get_top(self):\n",
        "    return self.__datos[-1]\n",
        "\n",
        "  def pop(self):\n",
        "    return self.__datos.pop()\n",
        "\n",
        "  def push (self, valor):\n",
        "    self.__datos.append(valor)\n",
        "\n",
        "  def get_length(self):\n",
        "    return len(self.__datos)\n",
        "\n",
        "  def to_string(self):\n",
        "    print(\"---------------\")\n",
        "    for ele in self.__datos[-1::-1]:\n",
        "      print(f\"{ele}\")"
      ],
      "execution_count": 18,
      "outputs": []
    },
    {
      "cell_type": "code",
      "metadata": {
        "id": "Fe0Fmo6lFlwN",
        "outputId": "73d5b8ed-4889-4e2b-9613-2988f4c66ce2",
        "colab": {
          "base_uri": "https://localhost:8080/",
          "height": 510
        }
      },
      "source": [
        "pila1 = Stack()\n",
        "pila1.push(15)\n",
        "pila1.push(16)\n",
        "pila1.push(13)\n",
        "pila1.push(12)\n",
        "pila1.push(113)\n",
        "pila1.to_string()\n",
        "\n",
        "sacado = pila1.pop()\n",
        "print(sacado)\n",
        "pila1.to_string()\n",
        "\n",
        "pila1.push(444)\n",
        "pila1.push(233)\n",
        "pila1.to_string()\n",
        "\n",
        "print(f\"El elemento en el tope es :{ pila1.get_top() } \")\n",
        "pila1.to_string()\n",
        "print(f\"La pila tiene {pila1.get_length()} elementos\")\n",
        "print(f\"La pila esta vacia?:  {pila1.is_empty()} \")\n",
        "\n"
      ],
      "execution_count": 21,
      "outputs": [
        {
          "output_type": "stream",
          "text": [
            "---------------\n",
            "113\n",
            "12\n",
            "13\n",
            "16\n",
            "15\n",
            "113\n",
            "---------------\n",
            "12\n",
            "13\n",
            "16\n",
            "15\n",
            "---------------\n",
            "233\n",
            "444\n",
            "12\n",
            "13\n",
            "16\n",
            "15\n",
            "El elemento en el tope es :233 \n",
            "---------------\n",
            "233\n",
            "444\n",
            "12\n",
            "13\n",
            "16\n",
            "15\n",
            "La pila tiene 6 elementos\n",
            "La pila esta vacia?:  False \n"
          ],
          "name": "stdout"
        }
      ]
    },
    {
      "cell_type": "markdown",
      "metadata": {
        "id": "0S8jqWQsJbFz"
      },
      "source": [
        "# Ejemplo de aplicacion de pilas\n",
        "\n",
        "x = 4 + 5 + 6 + 3\n",
        "\n",
        "x = 4 + (5 + 6) + 3\n",
        "\n",
        "x = 4 + 5 + 6) + 3\n",
        "\n",
        "x = (4 + (5 + 6) + 3)\n",
        "\n",
        "\n",
        "if(a==b) { System.out.println(b)\n",
        "\n",
        "if (a==b { System.out.println{b})\n",
        "\n",
        "# Reglas\n",
        "### '(' ---> push(\"@\")\n",
        "### ')' ---> pop()\n",
        "\n",
        "Si al final del recorrido la pila esta vacia, entonces la cadena es correcta.\n",
        "\n",
        "Si en un pop desencadena en querer un elemento de la pila vacia significa que la cadena no está balanceada.\n",
        "\n",
        "\n",
        "\n",
        "\n",
        "\n",
        "\n"
      ]
    },
    {
      "cell_type": "markdown",
      "metadata": {
        "id": "DjL_TWNcNJbp"
      },
      "source": [
        "# Tarea UnU\n",
        "\n",
        "Hacer una programa que valide el balanceo de ´( )´, '[ ]' y '{ }'\n",
        "en programas del lenguaje C y Java."
      ]
    }
  ]
}