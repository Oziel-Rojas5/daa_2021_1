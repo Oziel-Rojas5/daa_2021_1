{
  "nbformat": 4,
  "nbformat_minor": 0,
  "metadata": {
    "colab": {
      "name": "7octubre.ipynb",
      "provenance": [],
      "authorship_tag": "ABX9TyNEzBDcm6cq/+58+k6phwl5",
      "include_colab_link": true
    },
    "kernelspec": {
      "name": "python3",
      "display_name": "Python 3"
    }
  },
  "cells": [
    {
      "cell_type": "markdown",
      "metadata": {
        "id": "view-in-github",
        "colab_type": "text"
      },
      "source": [
        "<a href=\"https://colab.research.google.com/github/Oziel-Rojas5/daa_2021_1/blob/master/7octubre.ipynb\" target=\"_parent\"><img src=\"https://colab.research.google.com/assets/colab-badge.svg\" alt=\"Open In Colab\"/></a>"
      ]
    },
    {
      "cell_type": "markdown",
      "metadata": {
        "id": "U7aOWV3zSorj"
      },
      "source": [
        "# Búsqueda lineal\n",
        "\n",
        "dada un conjunto de datos ordenados, a busqueda lineal consiste e recorrer el conjnto de datos desde el inicio al final, moviendose uno en uno hasta el elemento o llegar al final del conjunto.\n",
        "\n",
        "datos = [ 4,18,47,2,34,14,78,12,48,21,31,19,1,3,5]\n",
        "\n",
        "## Búsqueda binaria \n",
        "funciona sobre un conjunto de datos linel od¿rdenado.\n",
        "Consiste en dividir el conjunto en mitades y buscar en esa mitad. si el elemento buscado no esta a la derecha o a la izq.\n",
        "Haces la lista igual a la mitad correspondiente y repites el proceso.\n",
        "\n",
        "L = [1, 2, 3, 4, 5, 12, 14, 18, 19, 21, 31, 34, 47, 48, 78]\n",
        "\n",
        "Der = longitud(L)-1\n",
        "\n",
        "Izq = 0\n",
        "\n",
        "Mid apunta a la mitad del segmento de busqueda\n",
        "\n",
        "buscado: es el valor a buscar\n",
        "\n",
        "1. Hacer DER = longitud( L ) -1\n",
        "2. Hacer IZQ = 0\n",
        "3. si IZQ > DER significa que hay un error en los datos \n",
        "4. calcular MID = int( (IZQ + DER) /2)\n",
        "5. mientras L[MID] != buscado hacer \n",
        "6.     - preguntar L[MID] > buscado\n",
        "          - hacer DER = mid\n",
        "       - de lo contrario\n",
        "          - hacer IZQ = mid\n",
        "       - preguntar (DER - IZQ) %2\n",
        "          - MID = (IZQ +((DER - IZQ) /2))+1   \n",
        "       - de lo contrario \n",
        "          - MID = (IZQ +(DER - IZQ) /2) \n",
        "7. return MID"
      ]
    },
    {
      "cell_type": "code",
      "metadata": {
        "id": "xGHHtonOSLw8",
        "outputId": "7d2c80e3-8dcb-415b-a87c-7245c8ff8429",
        "colab": {
          "base_uri": "https://localhost:8080/"
        }
      },
      "source": [
        "\"\"\"\n",
        "Buzqueda lineal\n",
        "regresa la posicion del elemnto \"buscado\"si se encuentra dentro de la lista.\n",
        "regresa -1 si el elemento no existe dentro de la lista.\n",
        "\"\"\"\n",
        "def busq_lineal(L, buscado):\n",
        "  indice = -1\n",
        "  contador = 0\n",
        "  for idx in range(len(L)):\n",
        "    contador += idx\n",
        "    if L[idx] == buscado:\n",
        "      indice = idx\n",
        "      break\n",
        "  print(f\"numero de comparaciones realizadas ={contador}\")\n",
        "  return indice\n",
        "\n",
        "\n",
        "  \"\"\"\n",
        "  Busqueda binaria\n",
        "  \"\"\"\n",
        "  def busqueda_binaria(L, buscado):\n",
        "    IZQ = 0\n",
        "    DER = len(L)-1\n",
        "    MID = int ((IZQ + DER)/2)\n",
        "    if len(L) % 2 == 0:\n",
        "      MID = (DER // 2)+1\n",
        "    else:\n",
        "      MID = DER //2\n",
        "    while (L[MID] ! = buscado):\n",
        "      if L[MID] > buscado:\n",
        "        DER = MID\n",
        "      else:\n",
        "        IZQ = MID\n",
        "      if (DER - IZQ) % 2 == 0:\n",
        "        MID = (IZQ+((DER-IZQ)//2))+1\n",
        "      else:\n",
        "        MID = IZQ + ((DER-IZQ)//2))\n",
        "    return MID\n",
        "\n",
        "\n",
        "\n",
        "def main():\n",
        "  datos = [ 4,18,47,2,34,14,78,12,48,21,31,19,1,3,5]\n",
        "  dato = int(input(\"que valor quieres buscar: \"))\n",
        "  resultado = busq_lineal(datos, dato)\n",
        "  print(\"Resultado: \", resultado)\n",
        "  print(\"Busqueda lineal en una lista ordenada\")\n",
        "  datos.sort()\n",
        "  print(datos)\n",
        "  resultado = busq_lineal(datos, dato)\n",
        "  print(\"resultado\" ,resultado)\n",
        "\n",
        "  print(\"busqueda binaria\")\n",
        "  posicion = busqueda_binaria(datos, dato)\n",
        "  print(f\"el elemento{dato} esta en la lista {}\")\n",
        "\n",
        "main()\n"
      ],
      "execution_count": null,
      "outputs": [
        {
          "output_type": "stream",
          "text": [
            "que valor quieres buscar: 5\n",
            "numero de comparaciones realizadas =105\n",
            "Resultado:  14\n",
            "Busqueda lineal en una lista ordenada\n",
            "[1, 2, 3, 4, 5, 12, 14, 18, 19, 21, 31, 34, 47, 48, 78]\n",
            "numero de comparaciones realizadas =10\n",
            "resultado 4\n"
          ],
          "name": "stdout"
        }
      ]
    }
  ]
}