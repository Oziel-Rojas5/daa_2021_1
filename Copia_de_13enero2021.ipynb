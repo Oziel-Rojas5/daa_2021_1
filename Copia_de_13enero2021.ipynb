{
  "nbformat": 4,
  "nbformat_minor": 0,
  "metadata": {
    "colab": {
      "name": "Copia de 13enero2021.ipynb",
      "provenance": [],
      "collapsed_sections": [],
      "include_colab_link": true
    },
    "kernelspec": {
      "name": "python3",
      "display_name": "Python 3"
    }
  },
  "cells": [
    {
      "cell_type": "markdown",
      "metadata": {
        "id": "view-in-github",
        "colab_type": "text"
      },
      "source": [
        "<a href=\"https://colab.research.google.com/github/Oziel-Rojas5/daa_2021_1/blob/master/Copia_de_13enero2021.ipynb\" target=\"_parent\"><img src=\"https://colab.research.google.com/assets/colab-badge.svg\" alt=\"Open In Colab\"/></a>"
      ]
    },
    {
      "cell_type": "code",
      "metadata": {
        "id": "cB-AAqDMkxn9"
      },
      "source": [
        "class NodoArbol:\r\n",
        "  def __init__(self, value, left=None,right=None):\r\n",
        "    self.data=value\r\n",
        "    self.left=left\r\n",
        "    self.right=right"
      ],
      "execution_count": 27,
      "outputs": []
    },
    {
      "cell_type": "code",
      "metadata": {
        "id": "uc18ERdbkyms"
      },
      "source": [
        "class BinarySearchTree:\r\n",
        "  def __init__(self):\r\n",
        "    self._root=None\r\n",
        "\r\n",
        "  def insert(self, value):\r\n",
        "    if self._root==None:\r\n",
        "      self._root=NodoArbol(value)\r\n",
        "    else:\r\n",
        "      self._insert_nodo_(self._root, value)\r\n",
        "\r\n",
        "  def _insert_nodo_(self, nodo, value):\r\n",
        "    if nodo.data==value:\r\n",
        "      pass\r\n",
        "    elif value<nodo.data: # true va a la IZQ \r\n",
        "      if nodo.left==None:# si hay espacio en la izq, ahi va\r\n",
        "        nodo.left=NodoArbol(value)# insertamos en sub\r\n",
        "      else:\r\n",
        "        self._insert_nodo_(nodo.left,value) # buscar en sub\r\n",
        "    else: # ir a la derecha \r\n",
        "      if nodo.right==None:\r\n",
        "        nodo.right=NodoArbol(value)\r\n",
        "      else:\r\n",
        "        self._insert_nodo_(nodo.right,value) #buscar en sub\r\n"
      ],
      "execution_count": 28,
      "outputs": []
    },
    {
      "cell_type": "code",
      "metadata": {
        "id": "dWkvhMsGk4hZ"
      },
      "source": [
        "bst=BinarySearchTree()\r\n",
        "bst.insert(50)\r\n",
        "bst.insert(30)\r\n",
        "bst.insert(20)"
      ],
      "execution_count": 29,
      "outputs": []
    }
  ]
}