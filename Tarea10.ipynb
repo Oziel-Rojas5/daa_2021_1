{
  "nbformat": 4,
  "nbformat_minor": 0,
  "metadata": {
    "colab": {
      "name": "Tarea10.ipynb",
      "provenance": [],
      "collapsed_sections": [],
      "authorship_tag": "ABX9TyN9i0Q9c0RLLWgxauTz7Phk",
      "include_colab_link": true
    },
    "kernelspec": {
      "name": "python3",
      "display_name": "Python 3"
    }
  },
  "cells": [
    {
      "cell_type": "markdown",
      "metadata": {
        "id": "view-in-github",
        "colab_type": "text"
      },
      "source": [
        "<a href=\"https://colab.research.google.com/github/Oziel-Rojas5/daa_2021_1/blob/master/Tarea10.ipynb\" target=\"_parent\"><img src=\"https://colab.research.google.com/assets/colab-badge.svg\" alt=\"Open In Colab\"/></a>"
      ]
    },
    {
      "cell_type": "code",
      "metadata": {
        "id": "VO_2YocDYUwF"
      },
      "source": [
        "nodos=[arbol4]\r\n",
        "posiblesResultados=[]\r\n",
        "\r\n",
        "def arbolRecursividad(arbol):\r\n",
        "  arbol=nodos.pop()\r\n",
        "  if arbol.left!=None:\r\n",
        "    nodos.append(arbol.left)\r\n",
        "  if arbol.right!=None:\r\n",
        "    nodos.append(arbol.right)\r\n",
        "  if arbol.left==None and arbol.right==None:\r\n",
        "    posiblesResultados.append(arbol.data)\r\n",
        "  if len(nodos)==0:\r\n",
        "    return \"terminado\"\r\n",
        "  else:\r\n",
        "    return arbolRecursividad(arbol)\r\n",
        "\r\n",
        "\r\n",
        "arbolRecursividad(arbol4)\r\n",
        "print(posiblesResultados)"
      ],
      "execution_count": null,
      "outputs": []
    }
  ]
}