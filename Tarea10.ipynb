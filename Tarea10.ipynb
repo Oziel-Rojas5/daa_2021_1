{
  "nbformat": 4,
  "nbformat_minor": 0,
  "metadata": {
    "colab": {
      "name": "Tarea10.ipynb",
      "provenance": [],
      "collapsed_sections": [],
      "authorship_tag": "ABX9TyO16cFDiOZm+xKBcrbYzXw5",
      "include_colab_link": true
    },
    "kernelspec": {
      "name": "python3",
      "display_name": "Python 3"
    }
  },
  "cells": [
    {
      "cell_type": "markdown",
      "metadata": {
        "id": "view-in-github",
        "colab_type": "text"
      },
      "source": [
        "<a href=\"https://colab.research.google.com/github/Oziel-Rojas5/daa_2021_1/blob/master/Tarea10.ipynb\" target=\"_parent\"><img src=\"https://colab.research.google.com/assets/colab-badge.svg\" alt=\"Open In Colab\"/></a>"
      ]
    },
    {
      "cell_type": "code",
      "metadata": {
        "id": "VO_2YocDYUwF"
      },
      "source": [
        "class NodoArbol:\r\n",
        "  def __init__(self, value, left=None,right=None):\r\n",
        "    self.data=value\r\n",
        "    self.left=left\r\n",
        "    self.right=right"
      ],
      "execution_count": 9,
      "outputs": []
    },
    {
      "cell_type": "code",
      "metadata": {
        "id": "xRWnRtPwdxnh"
      },
      "source": [
        "class BinarySearchTree:\r\n",
        " \r\n",
        "\r\n",
        "  def encontrar(self, arboli, nivel, nivel_max, res):\r\n",
        "\r\n",
        "        if arboli !=None:\r\n",
        "            nivel+=1\r\n",
        "            self.encontrar(arboli.left, nivel, nivel_max, res)\r\n",
        "\r\n",
        "            if nivel > nivel_max[0]:\r\n",
        "\r\n",
        "                res[0] = arboli.data\r\n",
        "                nivel_max[0] = nivel\r\n",
        "\r\n",
        "            self.encontrar(arboli.right, nivel, nivel_max, res)\r\n",
        "\r\n",
        "  def nodoProfundo(self,arboli):\r\n",
        "\r\n",
        "       res = [-1]\r\n",
        "       nivel_max = [-1]\r\n",
        "\r\n",
        "       self.encontrar(arboli, 0, nivel_max, res)\r\n",
        "       return res[0]\r\n"
      ],
      "execution_count": 10,
      "outputs": []
    },
    {
      "cell_type": "code",
      "metadata": {
        "colab": {
          "base_uri": "https://localhost:8080/"
        },
        "id": "1_JJGgOMd3Y3",
        "outputId": "fb49d559-f4b0-41b0-f181-0abdecd151b5"
      },
      "source": [
        "arbol = NodoArbol(1)\r\n",
        "arbol.left=NodoArbol(2)\r\n",
        "arbol.left.right=NodoArbol(3)\r\n",
        "arbol.left.right.left=NodoArbol(4)\r\n",
        "arbol.right=NodoArbol(5)\r\n",
        "\r\n",
        "\r\n",
        "temp=BinarySearchTree()\r\n",
        "\r\n",
        "print('El nodo mas profundo es', temp.nodoProfundo(arbol))"
      ],
      "execution_count": 11,
      "outputs": [
        {
          "output_type": "stream",
          "text": [
            "El nodo mas profundo es 4\n"
          ],
          "name": "stdout"
        }
      ]
    }
  ]
}