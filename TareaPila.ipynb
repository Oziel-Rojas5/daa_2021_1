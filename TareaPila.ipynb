{
  "nbformat": 4,
  "nbformat_minor": 0,
  "metadata": {
    "colab": {
      "name": "TareaPila.ipynb",
      "provenance": [],
      "authorship_tag": "ABX9TyND7Ckl+n957RqmY+Ib0oBa",
      "include_colab_link": true
    },
    "kernelspec": {
      "name": "python3",
      "display_name": "Python 3"
    }
  },
  "cells": [
    {
      "cell_type": "markdown",
      "metadata": {
        "id": "view-in-github",
        "colab_type": "text"
      },
      "source": [
        "<a href=\"https://colab.research.google.com/github/Oziel-Rojas5/daa_2021_1/blob/master/TareaPila.ipynb\" target=\"_parent\"><img src=\"https://colab.research.google.com/assets/colab-badge.svg\" alt=\"Open In Colab\"/></a>"
      ]
    },
    {
      "cell_type": "code",
      "metadata": {
        "id": "Zf1JVOrDL7dC"
      },
      "source": [
        "class Base:\n",
        "    def __init__ (self):\n",
        "     self.dato= []\n",
        "\n",
        "    def get_top (self):\n",
        "        return self.dato[-1]\n",
        "        \n",
        "    def vacio (self):\n",
        "        return len(self.dato) == 0\n",
        "\n",
        "    def push (self, valor):\n",
        "        return self.dato.append(valor)\n",
        "\n",
        "    def pop (self):\n",
        "        return self.dato.pop()\n",
        "\n",
        "    def get_length (self):\n",
        "        return len(self.dato)\n",
        "\n",
        "    def imprime (self):\n",
        "        print (\"-------------\\n\")\n",
        "        for lista in self.dato[-1::-1]:\n",
        "            print (lista)\n",
        "        print (\"-------------\\n\")"
      ],
      "execution_count": 1,
      "outputs": []
    },
    {
      "cell_type": "code",
      "metadata": {
        "id": "cSkFhsloMCa4",
        "outputId": "53ac3301-0932-4ad8-a0c4-2a9262fb8c50",
        "colab": {
          "base_uri": "https://localhost:8080/"
        }
      },
      "source": [
        "print (\"Ingrese la operación: \\n \")\n",
        "\n",
        "valor = input() \n",
        "print(\"\\n\")\n",
        "\n",
        "pila = Base()\n",
        "pila2 = Base()    \n",
        "\n",
        "for ele in range (0,len(valor)):\n",
        "    p = valor[ele]\n",
        "\n",
        "    if p ==  '(':\n",
        "        pila.push (p)\n",
        "    if p ==  '{':\n",
        "        pila.push (p)\n",
        "    if p ==  '[':\n",
        "        pila.push (p)\n",
        "\n",
        "    if p ==  ')':\n",
        "       pila.pop ()\n",
        "    if p ==  '}':\n",
        "       pila.pop ()\n",
        "    if p ==  ']':\n",
        "        pila.pop ()\n",
        "    \n",
        "    ele+=1\n",
        "\n",
        "\n",
        "if pila.vacio():\n",
        "    print(f\"No hay error en la validacion de parentesis\\n\")\n",
        "\n",
        "\n",
        "print(\"Pila\")\n",
        "pila.imprime()\n",
        "print(f\"{pila.get_length()}\\n\")\n",
        "\n",
        "if pila.get_length() > 0:\n",
        "    print(f\"Hace falta que se cierre un parentesis\\n\")"
      ],
      "execution_count": 3,
      "outputs": [
        {
          "output_type": "stream",
          "text": [
            "Ingrese la operación: \n",
            " \n",
            "(5+6)+(5+6\n",
            "\n",
            "\n",
            "Pila\n",
            "-------------\n",
            "\n",
            "(\n",
            "-------------\n",
            "\n",
            "1\n",
            "\n",
            "Hace falta que se cierre un parentesis\n",
            "\n"
          ],
          "name": "stdout"
        }
      ]
    }
  ]
}