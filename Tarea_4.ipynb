{
  "nbformat": 4,
  "nbformat_minor": 0,
  "metadata": {
    "colab": {
      "name": "Tarea 4.ipynb",
      "provenance": [],
      "authorship_tag": "ABX9TyNPExTE2Bl4Rk+97D4rvJIZ",
      "include_colab_link": true
    },
    "kernelspec": {
      "name": "python3",
      "display_name": "Python 3"
    }
  },
  "cells": [
    {
      "cell_type": "markdown",
      "metadata": {
        "id": "view-in-github",
        "colab_type": "text"
      },
      "source": [
        "<a href=\"https://colab.research.google.com/github/Oziel-Rojas5/daa_2021_1/blob/master/Tarea_4.ipynb\" target=\"_parent\"><img src=\"https://colab.research.google.com/assets/colab-badge.svg\" alt=\"Open In Colab\"/></a>"
      ]
    },
    {
      "cell_type": "code",
      "metadata": {
        "id": "pBbHjHSNfCqy",
        "outputId": "258b3500-6a67-416f-f7be-544517944c2a",
        "colab": {
          "base_uri": "https://localhost:8080/",
          "height": 145
        }
      },
      "source": [
        "def ejemplo4( n ):\n",
        "  count = 0\n",
        "  i = n\n",
        "  print(\"nivel 1\")\n",
        "  while i>=1:\n",
        "    count += 1\n",
        "    i = i // 2\n",
        "    print(\"nive 2\")\n",
        "  basura = 2 + 3\n",
        "  return count\n",
        "\n",
        "if __name__ == \"__main__\":\n",
        "  print(f\"Contador igual a: {ejemplo4(20)}\")"
      ],
      "execution_count": 9,
      "outputs": [
        {
          "output_type": "stream",
          "text": [
            "nivel 1\n",
            "nive 2\n",
            "nive 2\n",
            "nive 2\n",
            "nive 2\n",
            "nive 2\n",
            "Contador igual a: 5\n"
          ],
          "name": "stdout"
        }
      ]
    }
  ]
}