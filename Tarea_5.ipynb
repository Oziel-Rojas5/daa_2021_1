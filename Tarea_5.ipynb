{
  "nbformat": 4,
  "nbformat_minor": 0,
  "metadata": {
    "colab": {
      "name": "Tarea 5",
      "provenance": [],
      "authorship_tag": "ABX9TyPvOwym5RAJlrrOd/OpUFfw",
      "include_colab_link": true
    },
    "kernelspec": {
      "name": "python3",
      "display_name": "Python 3"
    }
  },
  "cells": [
    {
      "cell_type": "markdown",
      "metadata": {
        "id": "view-in-github",
        "colab_type": "text"
      },
      "source": [
        "<a href=\"https://colab.research.google.com/github/Oziel-Rojas5/daa_2021_1/blob/master/Tarea_5.ipynb\" target=\"_parent\"><img src=\"https://colab.research.google.com/assets/colab-badge.svg\" alt=\"Open In Colab\"/></a>"
      ]
    },
    {
      "cell_type": "code",
      "metadata": {
        "id": "AjIqHOOFVIs0",
        "outputId": "357435be-3303-4ad8-8f1a-f30b37bf7285",
        "colab": {
          "base_uri": "https://localhost:8080/",
          "height": 381
        }
      },
      "source": [
        "from time import time\n",
        "\n",
        "def ejemplo1( n ):\n",
        "    start_time=time()\n",
        "    c = n + 1\n",
        "    d = c * n\n",
        "    e = n * n\n",
        "    total = c + e - d\n",
        "    print(f\"total={ total }\")\n",
        "    print(f\"tiempo: {time()-start_time}\")\n",
        "for entrada in range(100,1001,100):\n",
        "  ejemplo1( entrada )"
      ],
      "execution_count": 12,
      "outputs": [
        {
          "output_type": "stream",
          "text": [
            "total=1\n",
            "tiempo: 0.0005161762237548828\n",
            "total=1\n",
            "tiempo: 2.5272369384765625e-05\n",
            "total=1\n",
            "tiempo: 2.9802322387695312e-05\n",
            "total=1\n",
            "tiempo: 2.2411346435546875e-05\n",
            "total=1\n",
            "tiempo: 2.765655517578125e-05\n",
            "total=1\n",
            "tiempo: 6.771087646484375e-05\n",
            "total=1\n",
            "tiempo: 9.632110595703125e-05\n",
            "total=1\n",
            "tiempo: 1.52587890625e-05\n",
            "total=1\n",
            "tiempo: 1.33514404296875e-05\n",
            "total=1\n",
            "tiempo: 1.2636184692382812e-05\n"
          ],
          "name": "stdout"
        }
      ]
    },
    {
      "cell_type": "code",
      "metadata": {
        "id": "012aqIdHVnAo",
        "outputId": "22b6a94d-c8d3-43fd-8be8-c1d6bea05bc0",
        "colab": {
          "base_uri": "https://localhost:8080/",
          "height": 199
        }
      },
      "source": [
        "from time import time\n",
        "\n",
        "def ejemplo2( n ):\n",
        "    start_time=time()\n",
        "    contador = 0\n",
        "    for i in range( n ) :\n",
        "        for j in range( n ) :\n",
        "            contador += 1\n",
        "    print(f\"tempo: {time()-start_time}\")\n",
        "    return contador\n",
        "\n",
        "for entrada in range(100,1001,100):\n",
        "  ejemplo2( entrada )"
      ],
      "execution_count": null,
      "outputs": [
        {
          "output_type": "stream",
          "text": [
            "tempo: 0.0006406307220458984\n",
            "tempo: 0.002777576446533203\n",
            "tempo: 0.009474515914916992\n",
            "tempo: 0.009490966796875\n",
            "tempo: 0.01275324821472168\n",
            "tempo: 0.018277645111083984\n",
            "tempo: 0.025335311889648438\n",
            "tempo: 0.03304553031921387\n",
            "tempo: 0.04234027862548828\n",
            "tempo: 0.07384943962097168\n"
          ],
          "name": "stdout"
        }
      ]
    },
    {
      "cell_type": "code",
      "metadata": {
        "id": "LmlSS335V38z",
        "outputId": "fe65eb4f-4981-4015-abe6-b181e95d0853",
        "colab": {
          "base_uri": "https://localhost:8080/",
          "height": 199
        }
      },
      "source": [
        "from time import time\n",
        "\n",
        "def ejemplo3( n ): # n=4\n",
        "    start_time=time()\n",
        "    x = n * 2 # x = 8\n",
        "    y = 0   # y = 0\n",
        "    for m in range( 100 ): #3\n",
        "        y = x - n   # y = 4\n",
        "    print(f\"tiempo: {time()-start_time}\")\n",
        "    return y\n",
        "\n",
        "for entrada in range(100,1001,100):\n",
        "  ejemplo3(entrada)"
      ],
      "execution_count": null,
      "outputs": [
        {
          "output_type": "stream",
          "text": [
            "tiempo: 4.76837158203125e-06\n",
            "tiempo: 7.62939453125e-06\n",
            "tiempo: 8.821487426757812e-06\n",
            "tiempo: 9.059906005859375e-06\n",
            "tiempo: 9.059906005859375e-06\n",
            "tiempo: 8.344650268554688e-06\n",
            "tiempo: 8.344650268554688e-06\n",
            "tiempo: 8.344650268554688e-06\n",
            "tiempo: 8.58306884765625e-06\n",
            "tiempo: 8.58306884765625e-06\n"
          ],
          "name": "stdout"
        }
      ]
    },
    {
      "cell_type": "code",
      "metadata": {
        "id": "H8KoFHy1V8wq",
        "outputId": "33ee30e4-e89c-4329-a5ae-060ea34d2b80",
        "colab": {
          "base_uri": "https://localhost:8080/",
          "height": 199
        }
      },
      "source": [
        "from time import time\n",
        "\n",
        "def ejemplo4( n ):\n",
        "    start_time=time()\n",
        "    x = 3 * 3.1416 + n\n",
        "    y = x + 3 * 3 - n\n",
        "    z = x + y\n",
        "    print(f\"tiempo: {time()-start_time}\")\n",
        "    return z\n",
        "\n",
        "for entrada in range(100,1001,100):\n",
        "  ejemplo4(entrada)"
      ],
      "execution_count": 20,
      "outputs": [
        {
          "output_type": "stream",
          "text": [
            "tiempo: 1.1920928955078125e-06\n",
            "tiempo: 1.1920928955078125e-06\n",
            "tiempo: 4.76837158203125e-07\n",
            "tiempo: 4.76837158203125e-07\n",
            "tiempo: 4.76837158203125e-07\n",
            "tiempo: 4.76837158203125e-07\n",
            "tiempo: 2.384185791015625e-07\n",
            "tiempo: 4.76837158203125e-07\n",
            "tiempo: 4.76837158203125e-07\n",
            "tiempo: 4.76837158203125e-07\n"
          ],
          "name": "stdout"
        }
      ]
    },
    {
      "cell_type": "code",
      "metadata": {
        "id": "r_PUwBVgWBcI",
        "outputId": "8482bc91-6df7-4b39-fce0-f3eef6042bc1",
        "colab": {
          "base_uri": "https://localhost:8080/",
          "height": 199
        }
      },
      "source": [
        "from time import time\n",
        "\n",
        "def ejemplo5( x ):\n",
        "    start_time=time()\n",
        "    n = 10\n",
        "    for j in range( 0 , x , 1 ):\n",
        "        n = j + n\n",
        "    print(f\"tiempo: {time()-start_time}\")\n",
        "    return n\n",
        "\n",
        "for entrada in range(100,1001,100):\n",
        "  ejemplo5(entrada)"
      ],
      "execution_count": 23,
      "outputs": [
        {
          "output_type": "stream",
          "text": [
            "tiempo: 6.4373016357421875e-06\n",
            "tiempo: 1.5735626220703125e-05\n",
            "tiempo: 2.5510787963867188e-05\n",
            "tiempo: 3.647804260253906e-05\n",
            "tiempo: 0.00016641616821289062\n",
            "tiempo: 5.459785461425781e-05\n",
            "tiempo: 5.793571472167969e-05\n",
            "tiempo: 6.866455078125e-05\n",
            "tiempo: 7.748603820800781e-05\n",
            "tiempo: 0.00010371208190917969\n"
          ],
          "name": "stdout"
        }
      ]
    },
    {
      "cell_type": "code",
      "metadata": {
        "id": "Dd5GtNu3WIWJ",
        "outputId": "5e273ab5-8d70-4983-c495-3e9725ffe006",
        "colab": {
          "base_uri": "https://localhost:8080/",
          "height": 126
        }
      },
      "source": [
        "from time import time\n",
        "\n",
        "def ejemplo6( n ):\n",
        "    start_time = time()\n",
        "    data=[[[1 for x in range(n)] for x in range(n)] \n",
        "          for x in range(n)]\n",
        "    suma = 0\n",
        "    for d in range(n):\n",
        "        for r in range(n):\n",
        "            for c in range(n):\n",
        "                suma += data[d][r][c]\n",
        "    elapsed_time = time() - start_time\n",
        "    print(\"Tiempo transcurrido: %0.10f segundos.\" % elapsed_time)\n",
        "    return suma\n",
        "\n",
        "for entrada in range(100,601,100):\n",
        "  ejemplo6( entrada )"
      ],
      "execution_count": null,
      "outputs": [
        {
          "output_type": "stream",
          "text": [
            "Tiempo transcurrido: 0.1978287697 segundos.\n",
            "Tiempo transcurrido: 1.0707259178 segundos.\n",
            "Tiempo transcurrido: 3.8254997730 segundos.\n",
            "Tiempo transcurrido: 9.6685290337 segundos.\n",
            "Tiempo transcurrido: 18.0963904858 segundos.\n",
            "Tiempo transcurrido: 33.0675010681 segundos.\n"
          ],
          "name": "stdout"
        }
      ]
    }
  ]
}